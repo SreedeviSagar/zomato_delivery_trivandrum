{
 "cells": [
  {
   "cell_type": "code",
   "execution_count": 1,
   "id": "4f369f9e",
   "metadata": {},
   "outputs": [],
   "source": [
    "import pandas as pd\n",
    "import numpy as np\n",
    "import seaborn as sns\n",
    "import matplotlib.pyplot as plt\n",
    "%matplotlib inline \n",
    "import pickle"
   ]
  },
  {
   "cell_type": "code",
   "execution_count": 2,
   "id": "d6e1920f",
   "metadata": {},
   "outputs": [],
   "source": [
    "zomato_df=pd.read_csv(\"zomato_trivandrum.csv\")"
   ]
  },
  {
   "cell_type": "code",
   "execution_count": 3,
   "id": "c692e881",
   "metadata": {},
   "outputs": [
    {
     "data": {
      "text/html": [
       "<div>\n",
       "<style scoped>\n",
       "    .dataframe tbody tr th:only-of-type {\n",
       "        vertical-align: middle;\n",
       "    }\n",
       "\n",
       "    .dataframe tbody tr th {\n",
       "        vertical-align: top;\n",
       "    }\n",
       "\n",
       "    .dataframe thead th {\n",
       "        text-align: right;\n",
       "    }\n",
       "</style>\n",
       "<table border=\"1\" class=\"dataframe\">\n",
       "  <thead>\n",
       "    <tr style=\"text-align: right;\">\n",
       "      <th></th>\n",
       "      <th>restaurant_name</th>\n",
       "      <th>dish_name</th>\n",
       "      <th>dish_price_INR</th>\n",
       "    </tr>\n",
       "  </thead>\n",
       "  <tbody>\n",
       "    <tr>\n",
       "      <th>0</th>\n",
       "      <td>North Bites</td>\n",
       "      <td>Samosa Chaat (Dahi Samosa)</td>\n",
       "      <td>115.0</td>\n",
       "    </tr>\n",
       "    <tr>\n",
       "      <th>1</th>\n",
       "      <td>North Bites</td>\n",
       "      <td>Chole Bhature [2 Bhature]</td>\n",
       "      <td>220.0</td>\n",
       "    </tr>\n",
       "    <tr>\n",
       "      <th>2</th>\n",
       "      <td>North Bites</td>\n",
       "      <td>Pav Bhaji</td>\n",
       "      <td>160.0</td>\n",
       "    </tr>\n",
       "    <tr>\n",
       "      <th>3</th>\n",
       "      <td>North Bites</td>\n",
       "      <td>Vada Pav</td>\n",
       "      <td>88.0</td>\n",
       "    </tr>\n",
       "    <tr>\n",
       "      <th>4</th>\n",
       "      <td>North Bites</td>\n",
       "      <td>Panipuri</td>\n",
       "      <td>80.0</td>\n",
       "    </tr>\n",
       "    <tr>\n",
       "      <th>...</th>\n",
       "      <td>...</td>\n",
       "      <td>...</td>\n",
       "      <td>...</td>\n",
       "    </tr>\n",
       "    <tr>\n",
       "      <th>37146</th>\n",
       "      <td>Al Hamdh Biryani Hut</td>\n",
       "      <td>Chicken Biryani with Egg</td>\n",
       "      <td>130.0</td>\n",
       "    </tr>\n",
       "    <tr>\n",
       "      <th>37147</th>\n",
       "      <td>Al Hamdh Biryani Hut</td>\n",
       "      <td>Egg Biryani</td>\n",
       "      <td>99.0</td>\n",
       "    </tr>\n",
       "    <tr>\n",
       "      <th>37148</th>\n",
       "      <td>Al Hamdh Biryani Hut</td>\n",
       "      <td>Chicken Biryani</td>\n",
       "      <td>115.0</td>\n",
       "    </tr>\n",
       "    <tr>\n",
       "      <th>37149</th>\n",
       "      <td>Al Hamdh Biryani Hut</td>\n",
       "      <td>4 Chicken Biryani</td>\n",
       "      <td>455.0</td>\n",
       "    </tr>\n",
       "    <tr>\n",
       "      <th>37150</th>\n",
       "      <td>Al Hamdh Biryani Hut</td>\n",
       "      <td>Chicken Biryani with Egg</td>\n",
       "      <td>130.0</td>\n",
       "    </tr>\n",
       "  </tbody>\n",
       "</table>\n",
       "<p>37151 rows × 3 columns</p>\n",
       "</div>"
      ],
      "text/plain": [
       "            restaurant_name                   dish_name  dish_price_INR\n",
       "0               North Bites  Samosa Chaat (Dahi Samosa)           115.0\n",
       "1               North Bites   Chole Bhature [2 Bhature]           220.0\n",
       "2               North Bites                   Pav Bhaji           160.0\n",
       "3               North Bites                    Vada Pav            88.0\n",
       "4               North Bites                    Panipuri            80.0\n",
       "...                     ...                         ...             ...\n",
       "37146  Al Hamdh Biryani Hut    Chicken Biryani with Egg           130.0\n",
       "37147  Al Hamdh Biryani Hut                 Egg Biryani            99.0\n",
       "37148  Al Hamdh Biryani Hut             Chicken Biryani           115.0\n",
       "37149  Al Hamdh Biryani Hut           4 Chicken Biryani           455.0\n",
       "37150  Al Hamdh Biryani Hut    Chicken Biryani with Egg           130.0\n",
       "\n",
       "[37151 rows x 3 columns]"
      ]
     },
     "execution_count": 3,
     "metadata": {},
     "output_type": "execute_result"
    }
   ],
   "source": [
    "zomato_df"
   ]
  },
  {
   "cell_type": "code",
   "execution_count": 4,
   "id": "78a2938a",
   "metadata": {},
   "outputs": [
    {
     "name": "stdout",
     "output_type": "stream",
     "text": [
      "<class 'pandas.core.frame.DataFrame'>\n",
      "RangeIndex: 37151 entries, 0 to 37150\n",
      "Data columns (total 3 columns):\n",
      " #   Column           Non-Null Count  Dtype  \n",
      "---  ------           --------------  -----  \n",
      " 0   restaurant_name  37151 non-null  object \n",
      " 1   dish_name        37151 non-null  object \n",
      " 2   dish_price_INR   37151 non-null  float64\n",
      "dtypes: float64(1), object(2)\n",
      "memory usage: 870.9+ KB\n"
     ]
    }
   ],
   "source": [
    "zomato_df.info()"
   ]
  },
  {
   "cell_type": "code",
   "execution_count": 5,
   "id": "0c21cd51",
   "metadata": {},
   "outputs": [
    {
     "data": {
      "text/plain": [
       "(37151, 3)"
      ]
     },
     "execution_count": 5,
     "metadata": {},
     "output_type": "execute_result"
    }
   ],
   "source": [
    "zomato_df.shape"
   ]
  },
  {
   "cell_type": "code",
   "execution_count": 6,
   "id": "556aa1d5",
   "metadata": {},
   "outputs": [
    {
     "data": {
      "text/plain": [
       "restaurant_name    0\n",
       "dish_name          0\n",
       "dish_price_INR     0\n",
       "dtype: int64"
      ]
     },
     "execution_count": 6,
     "metadata": {},
     "output_type": "execute_result"
    }
   ],
   "source": [
    "zomato_df.isna().sum()"
   ]
  },
  {
   "cell_type": "code",
   "execution_count": 7,
   "id": "a9944386",
   "metadata": {},
   "outputs": [
    {
     "data": {
      "text/plain": [
       "6435"
      ]
     },
     "execution_count": 7,
     "metadata": {},
     "output_type": "execute_result"
    }
   ],
   "source": [
    "zomato_df.duplicated().sum()"
   ]
  },
  {
   "cell_type": "code",
   "execution_count": 8,
   "id": "98bef86e",
   "metadata": {},
   "outputs": [
    {
     "data": {
      "text/html": [
       "<div>\n",
       "<style scoped>\n",
       "    .dataframe tbody tr th:only-of-type {\n",
       "        vertical-align: middle;\n",
       "    }\n",
       "\n",
       "    .dataframe tbody tr th {\n",
       "        vertical-align: top;\n",
       "    }\n",
       "\n",
       "    .dataframe thead th {\n",
       "        text-align: right;\n",
       "    }\n",
       "</style>\n",
       "<table border=\"1\" class=\"dataframe\">\n",
       "  <thead>\n",
       "    <tr style=\"text-align: right;\">\n",
       "      <th></th>\n",
       "      <th>restaurant_name</th>\n",
       "      <th>dish_name</th>\n",
       "      <th>dish_price_INR</th>\n",
       "    </tr>\n",
       "  </thead>\n",
       "  <tbody>\n",
       "    <tr>\n",
       "      <th>26</th>\n",
       "      <td>North Bites</td>\n",
       "      <td>Aloo Paratha</td>\n",
       "      <td>120.0</td>\n",
       "    </tr>\n",
       "    <tr>\n",
       "      <th>27</th>\n",
       "      <td>North Bites</td>\n",
       "      <td>Paneer Paratha</td>\n",
       "      <td>180.0</td>\n",
       "    </tr>\n",
       "    <tr>\n",
       "      <th>28</th>\n",
       "      <td>North Bites</td>\n",
       "      <td>Aloo Paratha + Chole</td>\n",
       "      <td>180.0</td>\n",
       "    </tr>\n",
       "    <tr>\n",
       "      <th>32</th>\n",
       "      <td>North Bites</td>\n",
       "      <td>Aloo Paratha with Paneer Curry</td>\n",
       "      <td>200.0</td>\n",
       "    </tr>\n",
       "    <tr>\n",
       "      <th>34</th>\n",
       "      <td>North Bites</td>\n",
       "      <td>Chole Bhature [2 Bhature]</td>\n",
       "      <td>220.0</td>\n",
       "    </tr>\n",
       "    <tr>\n",
       "      <th>...</th>\n",
       "      <td>...</td>\n",
       "      <td>...</td>\n",
       "      <td>...</td>\n",
       "    </tr>\n",
       "    <tr>\n",
       "      <th>37137</th>\n",
       "      <td>Surendra Trident Hotel</td>\n",
       "      <td>Chicken Noodles</td>\n",
       "      <td>220.0</td>\n",
       "    </tr>\n",
       "    <tr>\n",
       "      <th>37139</th>\n",
       "      <td>Surendra Trident Hotel</td>\n",
       "      <td>French Fries</td>\n",
       "      <td>120.0</td>\n",
       "    </tr>\n",
       "    <tr>\n",
       "      <th>37142</th>\n",
       "      <td>Surendra Trident Hotel</td>\n",
       "      <td>Chicken Chapati Roll</td>\n",
       "      <td>159.0</td>\n",
       "    </tr>\n",
       "    <tr>\n",
       "      <th>37145</th>\n",
       "      <td>Kalappa Restaurant</td>\n",
       "      <td>Homemade Veg Meals</td>\n",
       "      <td>105.0</td>\n",
       "    </tr>\n",
       "    <tr>\n",
       "      <th>37150</th>\n",
       "      <td>Al Hamdh Biryani Hut</td>\n",
       "      <td>Chicken Biryani with Egg</td>\n",
       "      <td>130.0</td>\n",
       "    </tr>\n",
       "  </tbody>\n",
       "</table>\n",
       "<p>6435 rows × 3 columns</p>\n",
       "</div>"
      ],
      "text/plain": [
       "              restaurant_name                       dish_name  dish_price_INR\n",
       "26                North Bites                    Aloo Paratha           120.0\n",
       "27                North Bites                  Paneer Paratha           180.0\n",
       "28                North Bites            Aloo Paratha + Chole           180.0\n",
       "32                North Bites  Aloo Paratha with Paneer Curry           200.0\n",
       "34                North Bites       Chole Bhature [2 Bhature]           220.0\n",
       "...                       ...                             ...             ...\n",
       "37137  Surendra Trident Hotel                 Chicken Noodles           220.0\n",
       "37139  Surendra Trident Hotel                    French Fries           120.0\n",
       "37142  Surendra Trident Hotel            Chicken Chapati Roll           159.0\n",
       "37145      Kalappa Restaurant              Homemade Veg Meals           105.0\n",
       "37150    Al Hamdh Biryani Hut        Chicken Biryani with Egg           130.0\n",
       "\n",
       "[6435 rows x 3 columns]"
      ]
     },
     "execution_count": 8,
     "metadata": {},
     "output_type": "execute_result"
    }
   ],
   "source": [
    "zomato_df[zomato_df.duplicated()]"
   ]
  },
  {
   "cell_type": "code",
   "execution_count": 9,
   "id": "672bb207",
   "metadata": {},
   "outputs": [],
   "source": [
    "zomato_df.drop_duplicates(inplace=True)"
   ]
  },
  {
   "cell_type": "code",
   "execution_count": 10,
   "id": "7bb75680",
   "metadata": {},
   "outputs": [
    {
     "data": {
      "text/plain": [
       "0"
      ]
     },
     "execution_count": 10,
     "metadata": {},
     "output_type": "execute_result"
    }
   ],
   "source": [
    "zomato_df.duplicated().sum()"
   ]
  },
  {
   "cell_type": "code",
   "execution_count": 11,
   "id": "b78b337f",
   "metadata": {},
   "outputs": [
    {
     "data": {
      "text/plain": [
       "399"
      ]
     },
     "execution_count": 11,
     "metadata": {},
     "output_type": "execute_result"
    }
   ],
   "source": [
    "zomato_df['restaurant_name'].nunique()"
   ]
  },
  {
   "cell_type": "code",
   "execution_count": 12,
   "id": "db5a4014",
   "metadata": {},
   "outputs": [
    {
     "data": {
      "text/plain": [
       "18654"
      ]
     },
     "execution_count": 12,
     "metadata": {},
     "output_type": "execute_result"
    }
   ],
   "source": [
    "zomato_df['dish_name'].nunique()"
   ]
  },
  {
   "cell_type": "code",
   "execution_count": 13,
   "id": "3e71ce2f",
   "metadata": {},
   "outputs": [
    {
     "data": {
      "text/plain": [
       "array(['Samosa Chaat (Dahi Samosa)', 'Chole Bhature [2 Bhature]',\n",
       "       'Pav Bhaji', ..., 'Homemade Veg Meals', 'Chicken Biryani with Egg',\n",
       "       '4 Chicken Biryani'], dtype=object)"
      ]
     },
     "execution_count": 13,
     "metadata": {},
     "output_type": "execute_result"
    }
   ],
   "source": [
    "zomato_df['dish_name'].unique()"
   ]
  },
  {
   "cell_type": "code",
   "execution_count": 14,
   "id": "3cc6caf7",
   "metadata": {},
   "outputs": [],
   "source": [
    "zomato_df['dish_name']=zomato_df['dish_name'].str.lower()"
   ]
  },
  {
   "cell_type": "code",
   "execution_count": 15,
   "id": "a9e66a61",
   "metadata": {},
   "outputs": [],
   "source": [
    "def dish_input(dish_name_req):\n",
    "    zomato_df1=pd.DataFrame()\n",
    "    dish_name_req=dish_name_req.lower()\n",
    "    zomato_df1=zomato_df[zomato_df['dish_name'].str.contains(dish_name_req)]\n",
    "    lists1=zomato_df1['restaurant_name'].values\n",
    "    lists2=zomato_df1['dish_name'].values\n",
    "    lists3=zomato_df1['dish_price_INR'].values\n",
    "    final_list=list(zip(lists1,lists2,lists3))\n",
    "    return final_list"
   ]
  },
  {
   "cell_type": "code",
   "execution_count": 16,
   "id": "b2d5c591",
   "metadata": {},
   "outputs": [
    {
     "data": {
      "text/plain": [
       "[('Hotel Chinnus', 'butter chicken', 278.0),\n",
       " ('Hotel Chinnus', 'boneless butter chicken', 299.0),\n",
       " ('Dindigul Thalappakatti', 'butter chicken masala', 319.0),\n",
       " ('Paragon Restaurant', 'butter chicken masala', 370.0),\n",
       " ('Aasife Biriyani', 'butter chicken masala', 240.0),\n",
       " ('Atelier By Ambrosia & Amit Puri', 'butter chicken', 365.71),\n",
       " ('Momo Zone - The Momo Company', 'butter chicken steamed momo', 165.0),\n",
       " ('Momo Zone - The Momo Company', 'butter chicken fried momo', 149.0),\n",
       " ('Momo Zone - The Momo Company', 'butter chicken moburg', 148.0),\n",
       " ('Momo Zone - The Momo Company', 'butter chicken mowrap', 135.0),\n",
       " ('Garam Masala Restaurant', 'butter chicken', 290.0),\n",
       " ('Hotel Libra', 'butter chicken', 280.0),\n",
       " ('Lemon Restaurant', 'butter chicken', 240.0),\n",
       " ('Kappithan', 'butter chicken', 279.0),\n",
       " ('Paaykappal',\n",
       "  'butter chicken combo [full butter chicken + 3 porotta]',\n",
       "  290.0),\n",
       " ('Paaykappal', 'butter chicken masala', 353.0),\n",
       " ('Hotel Mooncity', 'parotta butter chicken combo', 129.0),\n",
       " ('Hotel Mooncity', 'butter chicken', 180.0),\n",
       " ('Supreme Dhariya Biriyani', 'butter chicken', 241.53),\n",
       " ('Sijis Pizza Street', 'butter chicken penne pasta', 250.0),\n",
       " ('Supreme Bakers', 'butter chicken', 241.53),\n",
       " ('Charcoal Restaurant & Grill', 'butter chicken', 275.0),\n",
       " ('Momo Prime', 'butter chicken loaded fries', 170.0),\n",
       " ('ZamZam Dosa Hut', '1 puttu & butter chicken', 269.0),\n",
       " ('ZamZam Dosa Hut', '2 dosa with butter chicken', 306.9),\n",
       " ('ZamZam Dosa Hut', '5 thattu dosa with butter chicken', 306.9),\n",
       " ('ZamZam Dosa Hut', 'butter chicken masala', 415.8),\n",
       " ('ZamZam Dosa Hut', '2 kerala poratta & butter chicken half', 264.0),\n",
       " ('ZamZam Dosa Hut', 'appam (3 pc) & butter chicken ( 2pcs)', 228.8),\n",
       " ('ZamZam Dosa Hut', 'butter chicken + 5 paratha', 548.9),\n",
       " ('ZamZam Dosa Hut', 'half butter chicken +4 poratha', 350.9),\n",
       " ('Zam Zam YMR', 'butter chicken [ 2 pieces ] + 4 paratha', 269.5),\n",
       " ('Zam Zam YMR', '2 pcs butter chicken +2 wheat parotta', 250.8),\n",
       " ('Zam Zam YMR', 'butter chicken + 4 paratha', 477.4),\n",
       " ('Zam Zam YMR', 'butter chicken + 5 wheat paratha', 523.6),\n",
       " ('Zam Zam Bun Cafe', 'butter chicken pasta', 352.38),\n",
       " ('Faasos Signature Wraps and Rolls',\n",
       "  'smoked butter chicken rice bowl (regular)',\n",
       "  255.0),\n",
       " ('Faasos Signature Wraps and Rolls',\n",
       "  'smoked butter chicken rice bowl (jumbo)',\n",
       "  319.0),\n",
       " ('Firangi Bake', 'butter chicken lasagna', 325.0),\n",
       " ('Firangi Bake', 'punjabi butter chicken mac n cheese pasta', 349.0),\n",
       " ('The Good Bowl', \"good'ol butter chicken rice bowl\", 319.0),\n",
       " ('The Good Bowl',\n",
       "  'butter chicken rice bowl super saver combo (serves 1)',\n",
       "  397.0),\n",
       " ('Ovenstory Pizza', 'butter chicken pizza (medium pizza)', 599.0),\n",
       " ('Ovenstory Pizza', 'butter chicken semizza (half pizza)', 359.0),\n",
       " ('Ovenstory Pizza',\n",
       "  'butter chicken cheese burst semizza (half pizza)',\n",
       "  419.0),\n",
       " ('Ovenstory Pizza', 'punjabi butter chicken mac n cheese pasta', 399.0),\n",
       " ('The Biryani Life', 'smoked butter chicken bowl (half kg)', 399.0),\n",
       " ('Behrouz Biryani',\n",
       "  \"old delhi's murgh makhani (butter chicken gravy - serves 2)\",\n",
       "  499.0),\n",
       " ('LunchBox - Meals and Thalis',\n",
       "  'smoked butter chicken & rice lunchbox',\n",
       "  259.0),\n",
       " ('LunchBox - Meals and Thalis',\n",
       "  'smoked butter chicken & chapati lunchbox',\n",
       "  249.0),\n",
       " ('LunchBox - Meals and Thalis',\n",
       "  'smoked butter chicken & bread kulcha lunchbox',\n",
       "  259.0),\n",
       " ('LunchBox - Meals and Thalis',\n",
       "  'smoked butter chicken bowl (half kg)',\n",
       "  399.0),\n",
       " ('LunchBox - Meals and Thalis',\n",
       "  'smoked butter chicken, rice lunchbox with gulab jamun (2 pcs)',\n",
       "  288.0),\n",
       " ('LunchBox - Meals and Thalis',\n",
       "  'smoked butter chicken & paratha lunchbox',\n",
       "  269.0),\n",
       " ('LunchBox - Meals and Thalis',\n",
       "  'smoked butter chicken jumbo lunchbox',\n",
       "  339.0),\n",
       " ('Faasos - Wraps & Rolls',\n",
       "  'smoked butter chicken rice bowl (regular)',\n",
       "  255.0),\n",
       " ('Faasos - Wraps & Rolls', 'smoked butter chicken rice bowl (jumbo)', 319.0),\n",
       " ('New Kings Restaurant', 'butter chicken', 319.0),\n",
       " ('De Paris Restaurant', 'butter chicken boneless', 370.0),\n",
       " ('De Paris Restaurant',\n",
       "  '1 egg fried rice + 2 piece of butter chicken',\n",
       "  299.0),\n",
       " ('De Paris Restaurant', 'butter chicken rice bowl', 200.0),\n",
       " ('De Paris Restaurant',\n",
       "  '1 full mexican alfahm + 2 chicken fried rice + 1 chicken noodle+ 4 porotta + 1 chilly chicken bone + 1 butter chicken + 1 chicken 65 + 4 fresh lime',\n",
       "  2400.0),\n",
       " ('Padheyam Food Court', 'butter chicken', 240.0),\n",
       " ('Irani Kuzhimandhi Restaurant', 'butter chicken [4 pieces]', 260.0),\n",
       " ('Saaya Family Restaurant', 'butter chicken', 180.0),\n",
       " ('Punjabi House', 'butter chicken boneless', 372.0),\n",
       " ('Chaappi Restaurant', 'butter chicken', 320.0),\n",
       " ('Chaappi Restaurant', 'chicken fried rice+butter chicken', 295.0),\n",
       " ('Chaappi Restaurant',\n",
       "  'full alfaham + 6 parotta + butter chicken + 1 pepsi',\n",
       "  960.0),\n",
       " ('Chaappi Restaurant', 'butter chicken [boneless]', 346.0),\n",
       " ('Zam Zam Palayam', '2 chapathi+1 pc butter chicken', 138.0),\n",
       " ('Zam Zam Palayam', '2 kerala parata+1 pc butter chicken', 138.0),\n",
       " ('Zam Zam Palayam', '3 paratha + 2 pcs butter chicken + crusher', 295.9),\n",
       " ('Zam Zam Palayam', '2 pieces butter chicken with 2 wheat paratta', 229.9),\n",
       " ('Zam Zam Palayam', '2 pieces butter chicken with 4 paratta', 268.4),\n",
       " ('Zam Zam Palayam', 'butter chicken with 4 paratta', 488.4),\n",
       " ('Zam Zam Palayam', 'butter chicken with 4 wheat paratta', 506.0),\n",
       " ('The Olive Restaurant', 'butter chicken (bone less)', 349.0),\n",
       " ('Sweet N Spicy Family Restaurant', 'butter chicken', 349.0),\n",
       " ('Sweet N Spicy Family Restaurant',\n",
       "  'butter chicken [1/2 portion] with 2 poratta',\n",
       "  209.0),\n",
       " ('Sweet N Spicy Family Restaurant',\n",
       "  'butter chicken [1/2 portion] with 2 chapati',\n",
       "  155.0),\n",
       " ('Salwa Dine', 'butter chicken', 351.0),\n",
       " ('Salwa Dine', 'boneless butter chicken', 364.5),\n",
       " ('Golden Fork By Maurya Rajadhani', 'butter chicken masala', 265.0),\n",
       " (\"Tomato's Bakes & Grills\", '3 kerala porota + butter chicken', 210.0),\n",
       " (\"Tomato's Bakes & Grills\", 'butter chicken', 280.0),\n",
       " ('Statue Hotel', 'butter chicken', 250.0),\n",
       " ('Curry House By Spice Retreat', 'butter chicken masala', 162.0),\n",
       " ('Indrapuri Rajadhani', 'butter chicken masala', 260.0),\n",
       " ('Alibaba & 41 Dishes', 'butter chicken', 335.0),\n",
       " ('Zrooz Grand Restaurant Bakers', 'butter chicken', 280.0),\n",
       " ('Kluster Kafe', 'butter chicken', 364.0),\n",
       " ('The Grill', 'butter chicken', 360.0),\n",
       " ('Lunchbox - Meals and Thalis',\n",
       "  'smoked butter chicken, rice lunchbox with gulab jamun (2 pcs)',\n",
       "  288.0),\n",
       " ('Lunchbox - Meals and Thalis',\n",
       "  'smoked butter chicken & rice lunchbox',\n",
       "  259.0),\n",
       " ('Lunchbox - Meals and Thalis',\n",
       "  'smoked butter chicken & paratha lunchbox',\n",
       "  269.0),\n",
       " ('Lunchbox - Meals and Thalis',\n",
       "  'smoked butter chicken jumbo lunchbox',\n",
       "  339.0),\n",
       " ('Lunchbox - Meals and Thalis',\n",
       "  'smoked butter chicken bowl (half kg)',\n",
       "  399.0),\n",
       " ('Q Nine Restaurant', 'butter chicken', 250.0),\n",
       " ('Ambara Multi Cuisine Restaurant', 'butter chicken', 320.0),\n",
       " ('Dar Es Salaam Resto', 'butter chicken', 310.0),\n",
       " ('Tadka Restaurant', 'murgh makhini - butter chicken', 384.0),\n",
       " ('SP Grand Days', 'butter chicken masala', 420.0),\n",
       " ('De Paris', 'butter chicken boneless', 370.0),\n",
       " ('Royal Travancore Kitchen', '3 parota + butter chicken masala (2pc)', 224.0),\n",
       " ('Royal Travancore Kitchen',\n",
       "  'chicken fried rice (f) + butter chicken masala (f)',\n",
       "  374.0),\n",
       " ('Royal Travancore Kitchen', 'butter chicken masala', 289.0),\n",
       " ('Royal Travancore Kitchen',\n",
       "  '1 butter garlic naan + butter chicken masala (h)',\n",
       "  274.0),\n",
       " ('Royal Travancore Kitchen',\n",
       "  'chicken fried rice (h) + 2pc butter chicken masala',\n",
       "  274.0),\n",
       " ('Rooster King Restaurant', 'butter chicken', 286.0),\n",
       " ('Rooster King Restaurant', 'boneless butter chicken', 351.0),\n",
       " ('Plav Multicuisine Restaurant', 'butter chicken', 290.0),\n",
       " ('Seabass Sea Food Restaurant', 'butter chicken', 219.04),\n",
       " ('Lords', 'butter chicken combo', 229.0),\n",
       " ('Lords', 'butter chicken', 219.0),\n",
       " ('The Test Kitchen', 'butter chicken', 248.0),\n",
       " ('Hotel Chola International', 'boneless butter chicken masala', 280.0),\n",
       " ('Hotel Chola International', 'butter chicken masala', 250.0),\n",
       " ('Lulu Hypermarket', 'murgh makhni 300 gm (butter chicken)', 200.0),\n",
       " ('Lulu Hypermarket', 'butter chicken 300 gm + butter nan 1 pc', 240.0),\n",
       " ('Cafe Lemon', 'butter chicken curry', 300.0),\n",
       " ('Cafe Lemon', 'butter chicken roll', 230.0),\n",
       " ('Kingsway Hotel - Grand Duke', 'butter chicken', 280.0),\n",
       " ('Silver Sand Hotel', 'butter chicken', 200.0),\n",
       " ('Hotel Pallava Rajadhani', 'butter chicken masala', 250.0),\n",
       " ('Homies Restaurant', '3 parotta + 3 chapati + butter chicken', 379.0),\n",
       " ('Homies Restaurant', 'butter chicken', 339.0),\n",
       " ('Panchali By Rajadhani', 'butter chicken masala', 250.0),\n",
       " ('Hotel Rajadhani', 'butter chicken masala', 250.0),\n",
       " ('Hotel Rajadhani', 'boneless butter chicken masala', 280.0),\n",
       " ('The Raahath Restaurant', 'butter chicken', 230.0),\n",
       " ('Thaqwa Restaurant', 'butter chicken', 339.0),\n",
       " (\"Asok's Bake And Bistro\", 'butter chicken masala', 312.0),\n",
       " ('New Food Land', 'butter chicken', 230.0),\n",
       " ('Arabian Tasty Cafe', 'butter chicken', 179.0),\n",
       " ('Lamiya Food Palace', 'butter chicken', 330.0),\n",
       " ('Kumar Cafe', 'butter chicken masala [serves 1]', 260.0),\n",
       " ('Tharavattil Thanima Restaurant', 'butter chicken', 180.0),\n",
       " ('Dingan Kitchen', 'butter chicken', 270.0),\n",
       " ('Grand Chef Restaurant', 'butter chicken masala', 288.0),\n",
       " ('Break Time Restro Cafe', 'butter chicken pizza', 340.0),\n",
       " ('GG Restaurant', 'butter chicken', 229.0),\n",
       " ('Al Maaz', 'butter chicken', 280.0),\n",
       " ('Zam Zam Restaurant', 'butter chicken pasta', 363.0),\n",
       " ('Eaton Cafe', 'butter chicken [big, 2 pieces]', 199.0),\n",
       " ('Irani Kuzhimandi Restaurant', 'butter chicken', 286.0),\n",
       " ('Irani Kuzhimandi Restaurant', 'boneless butter chicken', 300.0),\n",
       " ('MRA Signature Bakery & Restaurant',\n",
       "  '3paratha+2pc butter chicken+combo juice',\n",
       "  199.0),\n",
       " ('Break Time Cafe', 'butter chicken pizza', 273.0),\n",
       " ('Bharani Restaurant', 'butter chicken masala', 250.0),\n",
       " ('The Golden Forks', 'butter chicken', 120.0),\n",
       " ('Kings Restaurant', 'butter chicken', 275.0),\n",
       " ('Kings Restaurant', 'butter chicken boneless', 299.0),\n",
       " ('Shawarmigos', 'butter chicken shawarma', 221.0),\n",
       " ('Shawarmigos', 'butter chicken rice box', 273.0),\n",
       " ('Shawarmigos', 'butter chicken shawarma [12 inches]', 286.0),\n",
       " ('BGF- Le Café Signature', 'butter chicken cheese burger', 175.0),\n",
       " ('Kadal Restaurant', 'butter chicken', 300.0),\n",
       " ('UBQ by Barbeque Nation', 'chicken biryani and butter chicken meal', 419.0),\n",
       " ('UBQ by Barbeque Nation', 'butter chicken', 299.0),\n",
       " ('UBQ by Barbeque Nation', 'butter chicken meal-regular', 359.0),\n",
       " ('UBQ by Barbeque Nation', 'mutton biryani and butter chicken meal', 519.0),\n",
       " ('Barbeque Nation', 'chicken biryani and butter chicken meal', 419.0),\n",
       " ('Barbeque Nation', 'butter chicken meal-regular', 359.0),\n",
       " ('Barbeque Nation', 'mutton biryani and butter chicken meal', 519.0),\n",
       " ('Al Naztha Tasty Food', '6 parotta with butter chicken', 249.0),\n",
       " ('Al Naztha Tasty Food', 'butter chicken', 249.0),\n",
       " ('Urban Kitchen', 'butter chicken [500 ml]', 290.0),\n",
       " ('Khao', 'murg makhani (butter chicken)', 300.0),\n",
       " ('Homely Foods', 'butter chicken', 220.0),\n",
       " ('Spicebridge Restaurant', 'butter chicken', 300.0)]"
      ]
     },
     "execution_count": 16,
     "metadata": {},
     "output_type": "execute_result"
    }
   ],
   "source": [
    "dish_input('butter chicken')"
   ]
  },
  {
   "cell_type": "code",
   "execution_count": 17,
   "id": "64ab0c5b",
   "metadata": {},
   "outputs": [],
   "source": [
    "pickle.dump(zomato_df,open('zomato_tvm.pkl','wb'))\n"
   ]
  }
 ],
 "metadata": {
  "kernelspec": {
   "display_name": "Python 3 (ipykernel)",
   "language": "python",
   "name": "python3"
  },
  "language_info": {
   "codemirror_mode": {
    "name": "ipython",
    "version": 3
   },
   "file_extension": ".py",
   "mimetype": "text/x-python",
   "name": "python",
   "nbconvert_exporter": "python",
   "pygments_lexer": "ipython3",
   "version": "3.8.0"
  }
 },
 "nbformat": 4,
 "nbformat_minor": 5
}
